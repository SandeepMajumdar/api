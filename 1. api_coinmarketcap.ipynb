{
 "cells": [
  {
   "cell_type": "markdown",
   "id": "03f68c5c",
   "metadata": {},
   "source": [
    "# Cryptocurrency API, courtesy DevOps Journey channel"
   ]
  },
  {
   "cell_type": "code",
   "execution_count": 1,
   "id": "a60eee77",
   "metadata": {},
   "outputs": [],
   "source": [
    "# https://coinmarketcap.com/api/documentation/v1/\n",
    "# Registered on the website and generated the api key\n",
    "\n",
    "API_KEY = '84df5c3e-0d33-44c9-afda-71cf587b112c'"
   ]
  },
  {
   "cell_type": "code",
   "execution_count": 2,
   "id": "11721f74",
   "metadata": {},
   "outputs": [],
   "source": [
    "import requests\n",
    "from requests import Session\n",
    "\n",
    "url = 'https://pro-api.coinmarketcap.com/v1/cryptocurrency/map'\n",
    "\n",
    "# Get the headers from the API documentation\n",
    "headers = {\n",
    "  'Accepts': 'application/json',\n",
    "  'X-CMC_PRO_API_KEY': API_KEY,  # Setting my own api key, generated after signing up on the website\n",
    "}\n",
    "\n",
    "# create an api object, and perform a simple request\n",
    "r = requests.get(url, headers=headers) # This will send the request to the url"
   ]
  },
  {
   "cell_type": "code",
   "execution_count": 3,
   "id": "723838fb",
   "metadata": {},
   "outputs": [
    {
     "data": {
      "text/plain": [
       "200"
      ]
     },
     "execution_count": 3,
     "metadata": {},
     "output_type": "execute_result"
    }
   ],
   "source": [
    "r.status_code # check whether the request worked or gives a 400 or 500 error"
   ]
  },
  {
   "cell_type": "code",
   "execution_count": null,
   "id": "a7b75cb1",
   "metadata": {},
   "outputs": [],
   "source": [
    "# Check what the request returns (we know that the return is a json, as mentioned in the api documentation)\n",
    "\n",
    "r.json()"
   ]
  },
  {
   "cell_type": "code",
   "execution_count": 4,
   "id": "42e4433d",
   "metadata": {},
   "outputs": [
    {
     "data": {
      "text/plain": [
       "{'id': 1,\n",
       " 'name': 'Bitcoin',\n",
       " 'symbol': 'BTC',\n",
       " 'slug': 'bitcoin',\n",
       " 'rank': 1,\n",
       " 'is_active': 1,\n",
       " 'first_historical_data': '2013-04-28T18:47:21.000Z',\n",
       " 'last_historical_data': '2022-06-03T12:09:00.000Z',\n",
       " 'platform': None}"
      ]
     },
     "execution_count": 4,
     "metadata": {},
     "output_type": "execute_result"
    }
   ],
   "source": [
    "# We saw that the 'data' key has the cryptocurrencies data; Check the first one\n",
    "\n",
    "r.json()['data'][0]"
   ]
  },
  {
   "cell_type": "code",
   "execution_count": 5,
   "id": "eaa68a95",
   "metadata": {},
   "outputs": [],
   "source": [
    "# It is better to work with classes when using APIs, so that we can easily make the REST API calls\n",
    "\n",
    "class CMC:\n",
    "    def __init__(self, token):\n",
    "        self.apiurl = 'https://pro-api.coinmarketcap.com'  # Only the base url is used here\n",
    "        self.headers = {'Accepts': 'application/json', 'X-CMC_PRO_API_KEY': API_KEY,}\n",
    "        self.session = Session()  # session works just as request, and can be called repeatedly\n",
    "        self.session.headers.update(self.headers)\n",
    "        \n",
    "    def getAllCoins(self):\n",
    "        url = self.apiurl + '/v1/cryptocurrency/map'  # Use the endpoint portion of the specific url\n",
    "        r = self.session.get(url) # This will send the request to the url\n",
    "        data = r.json()['data'] # We already saw this earlier with the simple request\n",
    "        return data\n",
    "    \n",
    "    def getPrice(self, symbol):\n",
    "        url = self.apiurl + '/v1/cryptocurrency/quotes/latest'\n",
    "        parameters = {'symbol': symbol}\n",
    "        r = self.session.get(url, params=parameters) # This will send the request to the url\n",
    "        data = r.json()['data'] # We already saw this earlier with the simple request\n",
    "        return data\n",
    "    \n",
    "cmc = CMC(API_KEY) # While creating the class instance, pass the api key"
   ]
  },
  {
   "cell_type": "code",
   "execution_count": 6,
   "id": "13bca2dc",
   "metadata": {},
   "outputs": [
    {
     "data": {
      "text/plain": [
       "('https://pro-api.coinmarketcap.com',\n",
       " {'Accepts': 'application/json',\n",
       "  'X-CMC_PRO_API_KEY': '84df5c3e-0d33-44c9-afda-71cf587b112c'},\n",
       " <requests.sessions.Session at 0x7fa3ce3fa210>)"
      ]
     },
     "execution_count": 6,
     "metadata": {},
     "output_type": "execute_result"
    }
   ],
   "source": [
    "# Check whether the object arguments work\n",
    "\n",
    "cmc.apiurl, cmc.headers, cmc.session"
   ]
  },
  {
   "cell_type": "code",
   "execution_count": 7,
   "id": "2a18b931",
   "metadata": {},
   "outputs": [
    {
     "data": {
      "text/plain": [
       "[{'id': 1,\n",
       "  'name': 'Bitcoin',\n",
       "  'symbol': 'BTC',\n",
       "  'slug': 'bitcoin',\n",
       "  'rank': 1,\n",
       "  'is_active': 1,\n",
       "  'first_historical_data': '2013-04-28T18:47:21.000Z',\n",
       "  'last_historical_data': '2022-06-03T12:09:00.000Z',\n",
       "  'platform': None},\n",
       " {'id': 2,\n",
       "  'name': 'Litecoin',\n",
       "  'symbol': 'LTC',\n",
       "  'slug': 'litecoin',\n",
       "  'rank': 20,\n",
       "  'is_active': 1,\n",
       "  'first_historical_data': '2013-04-28T18:47:22.000Z',\n",
       "  'last_historical_data': '2022-06-03T12:09:00.000Z',\n",
       "  'platform': None},\n",
       " {'id': 3,\n",
       "  'name': 'Namecoin',\n",
       "  'symbol': 'NMC',\n",
       "  'slug': 'namecoin',\n",
       "  'rank': 626,\n",
       "  'is_active': 1,\n",
       "  'first_historical_data': '2013-04-28T18:47:22.000Z',\n",
       "  'last_historical_data': '2022-06-03T12:09:00.000Z',\n",
       "  'platform': None}]"
      ]
     },
     "execution_count": 7,
     "metadata": {},
     "output_type": "execute_result"
    }
   ],
   "source": [
    "cmc.getAllCoins()[:3]  # Fetching only the first 3 items from the data array"
   ]
  },
  {
   "cell_type": "code",
   "execution_count": 8,
   "id": "eb9c4ee4",
   "metadata": {},
   "outputs": [
    {
     "data": {
      "text/plain": [
       "{'BTC': {'id': 1,\n",
       "  'name': 'Bitcoin',\n",
       "  'symbol': 'BTC',\n",
       "  'slug': 'bitcoin',\n",
       "  'num_market_pairs': 9478,\n",
       "  'date_added': '2013-04-28T00:00:00.000Z',\n",
       "  'tags': ['mineable',\n",
       "   'pow',\n",
       "   'sha-256',\n",
       "   'store-of-value',\n",
       "   'state-channel',\n",
       "   'coinbase-ventures-portfolio',\n",
       "   'three-arrows-capital-portfolio',\n",
       "   'polychain-capital-portfolio',\n",
       "   'binance-labs-portfolio',\n",
       "   'blockchain-capital-portfolio',\n",
       "   'boostvc-portfolio',\n",
       "   'cms-holdings-portfolio',\n",
       "   'dcg-portfolio',\n",
       "   'dragonfly-capital-portfolio',\n",
       "   'electric-capital-portfolio',\n",
       "   'fabric-ventures-portfolio',\n",
       "   'framework-ventures-portfolio',\n",
       "   'galaxy-digital-portfolio',\n",
       "   'huobi-capital-portfolio',\n",
       "   'alameda-research-portfolio',\n",
       "   'a16z-portfolio',\n",
       "   '1confirmation-portfolio',\n",
       "   'winklevoss-capital-portfolio',\n",
       "   'usv-portfolio',\n",
       "   'placeholder-ventures-portfolio',\n",
       "   'pantera-capital-portfolio',\n",
       "   'multicoin-capital-portfolio',\n",
       "   'paradigm-portfolio'],\n",
       "  'max_supply': 21000000,\n",
       "  'circulating_supply': 19057012,\n",
       "  'total_supply': 19057012,\n",
       "  'is_active': 1,\n",
       "  'platform': None,\n",
       "  'cmc_rank': 1,\n",
       "  'is_fiat': 0,\n",
       "  'self_reported_circulating_supply': None,\n",
       "  'self_reported_market_cap': None,\n",
       "  'last_updated': '2022-06-03T12:11:00.000Z',\n",
       "  'quote': {'USD': {'price': 29760.072453709654,\n",
       "    'volume_24h': 29432009017.703915,\n",
       "    'volume_change_24h': -30.37,\n",
       "    'percent_change_1h': -0.05678576,\n",
       "    'percent_change_24h': -1.16342557,\n",
       "    'percent_change_7d': 2.90239806,\n",
       "    'percent_change_30d': -23.8777577,\n",
       "    'percent_change_60d': -35.57758635,\n",
       "    'percent_change_90d': -24.05679892,\n",
       "    'market_cap': 567138057871.2144,\n",
       "    'market_cap_dominance': 46.3699,\n",
       "    'fully_diluted_market_cap': 624961521527.9,\n",
       "    'last_updated': '2022-06-03T12:11:00.000Z'}}}}"
      ]
     },
     "execution_count": 8,
     "metadata": {},
     "output_type": "execute_result"
    }
   ],
   "source": [
    "cmc.getPrice('BTC')  # Now we request for the price url data and also pass a symbol parameter"
   ]
  },
  {
   "cell_type": "code",
   "execution_count": null,
   "id": "2ea0bea5",
   "metadata": {},
   "outputs": [],
   "source": []
  }
 ],
 "metadata": {
  "kernelspec": {
   "display_name": "Python 3",
   "language": "python",
   "name": "python3"
  },
  "language_info": {
   "codemirror_mode": {
    "name": "ipython",
    "version": 3
   },
   "file_extension": ".py",
   "mimetype": "text/x-python",
   "name": "python",
   "nbconvert_exporter": "python",
   "pygments_lexer": "ipython3",
   "version": "3.7.13"
  }
 },
 "nbformat": 4,
 "nbformat_minor": 5
}
